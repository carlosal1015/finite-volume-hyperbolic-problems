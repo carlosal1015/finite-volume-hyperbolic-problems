{
 "cells": [
  {
   "cell_type": "code",
   "execution_count": 1,
   "id": "da524e41-4212-4771-8833-d1d5f4846d48",
   "metadata": {},
   "outputs": [],
   "source": [
    "from sympy.abc import theta, epsilon, m, q, delta\n",
    "from sympy import exp, Symbol, Eq, solve, latex\n",
    "from sympy.printing import pprint\n",
    "from sympy import Derivative as D"
   ]
  },
  {
   "cell_type": "code",
   "execution_count": 2,
   "id": "4811b952-591f-40a9-83fc-c73b23103203",
   "metadata": {},
   "outputs": [],
   "source": [
    "theta0 = Symbol(\"theta_0\")"
   ]
  },
  {
   "cell_type": "code",
   "execution_count": 3,
   "id": "3b2f1e58-9baa-490f-aecb-f6514f42c160",
   "metadata": {},
   "outputs": [],
   "source": [
    "f = m * (theta) / (1 - q * theta) * exp(epsilon / (theta + theta0))"
   ]
  },
  {
   "cell_type": "code",
   "execution_count": 4,
   "id": "e243a3bb-9b6f-4000-9967-db6cb80ae5f2",
   "metadata": {},
   "outputs": [
    {
     "data": {
      "text/latex": [
       "$\\displaystyle \\frac{m \\theta e^{\\frac{\\epsilon}{\\theta + \\theta_{0}}}}{- q \\theta + 1}$"
      ],
      "text/plain": [
       "m*theta*exp(epsilon/(theta + theta_0))/(-q*theta + 1)"
      ]
     },
     "execution_count": 4,
     "metadata": {},
     "output_type": "execute_result"
    }
   ],
   "source": [
    "f"
   ]
  },
  {
   "cell_type": "code",
   "execution_count": 5,
   "id": "8d295fc1-5750-4309-a9ff-99405f3d8762",
   "metadata": {},
   "outputs": [],
   "source": [
    "fprime = D(f, theta).doit().factor()"
   ]
  },
  {
   "cell_type": "code",
   "execution_count": 6,
   "id": "036a6ed1-482b-4bd2-839e-348e169b4634",
   "metadata": {},
   "outputs": [
    {
     "data": {
      "text/latex": [
       "$\\displaystyle \\frac{m \\left(\\epsilon q \\theta^{2} - \\epsilon \\theta + \\theta^{2} + 2 \\theta \\theta_{0} + \\theta_{0}^{2}\\right) e^{\\frac{\\epsilon}{\\theta + \\theta_{0}}}}{\\left(\\theta + \\theta_{0}\\right)^{2} \\left(q \\theta - 1\\right)^{2}}$"
      ],
      "text/plain": [
       "m*(epsilon*q*theta**2 - epsilon*theta + theta**2 + 2*theta*theta_0 + theta_0**2)*exp(epsilon/(theta + theta_0))/((theta + theta_0)**2*(q*theta - 1)**2)"
      ]
     },
     "execution_count": 6,
     "metadata": {},
     "output_type": "execute_result"
    }
   ],
   "source": [
    "fprime"
   ]
  },
  {
   "cell_type": "code",
   "execution_count": 7,
   "id": "564bbf38-eeea-4795-9976-f3f90dcd51fb",
   "metadata": {},
   "outputs": [
    {
     "data": {
      "text/latex": [
       "$\\displaystyle \\frac{m \\left(\\epsilon q \\theta^{2} - \\epsilon \\theta + \\theta^{2} + 2 \\theta \\theta_{0} + \\theta_{0}^{2}\\right) e^{\\frac{\\epsilon}{\\theta + \\theta_{0}}}}{\\left(\\theta + \\theta_{0}\\right)^{2} \\left(q \\theta - 1\\right)^{2}} = 0$"
      ],
      "text/plain": [
       "Eq(m*(epsilon*q*theta**2 - epsilon*theta + theta**2 + 2*theta*theta_0 + theta_0**2)*exp(epsilon/(theta + theta_0))/((theta + theta_0)**2*(q*theta - 1)**2), 0)"
      ]
     },
     "execution_count": 7,
     "metadata": {},
     "output_type": "execute_result"
    }
   ],
   "source": [
    "Eq(fprime, 0)"
   ]
  },
  {
   "cell_type": "code",
   "execution_count": 8,
   "id": "6b1b26a4-d8df-49c5-9920-be42afc11e5d",
   "metadata": {},
   "outputs": [],
   "source": [
    "thetacp, thetacm = solve(Eq(fprime, 0), theta)"
   ]
  },
  {
   "cell_type": "code",
   "execution_count": 9,
   "id": "030a9c94-4595-4232-9280-bb5e211c12c5",
   "metadata": {},
   "outputs": [
    {
     "data": {
      "text/latex": [
       "$\\displaystyle \\frac{\\epsilon - 2 \\theta_{0}}{2 \\left(\\epsilon q + 1\\right)}$"
      ],
      "text/plain": [
       "(epsilon - 2*theta_0)/(2*(epsilon*q + 1))"
      ]
     },
     "execution_count": 9,
     "metadata": {},
     "output_type": "execute_result"
    }
   ],
   "source": [
    "thetacm.subs({epsilon - 4*q*theta0**2  - 4*theta0: 0})"
   ]
  },
  {
   "cell_type": "code",
   "execution_count": 10,
   "id": "7178622f-fa7c-4150-ae1b-e25002e424d7",
   "metadata": {},
   "outputs": [],
   "source": [
    "thetac = thetacm.subs({epsilon - 4*q*theta0**2  - 4*theta0: 0, epsilon: 4*theta0 + 4*q*theta0**2})\n",
    "# thetacp.subs({epsilon - 4*q*theta0**2  - 4*theta0: 0})"
   ]
  },
  {
   "cell_type": "code",
   "execution_count": 11,
   "id": "55265f03-c16c-4458-a205-e08be1047c32",
   "metadata": {},
   "outputs": [
    {
     "data": {
      "text/latex": [
       "$\\displaystyle \\frac{4 q \\theta_{0}^{2} + 2 \\theta_{0}}{2 \\left(q \\left(4 q \\theta_{0}^{2} + 4 \\theta_{0}\\right) + 1\\right)}$"
      ],
      "text/plain": [
       "(4*q*theta_0**2 + 2*theta_0)/(2*(q*(4*q*theta_0**2 + 4*theta_0) + 1))"
      ]
     },
     "execution_count": 11,
     "metadata": {},
     "output_type": "execute_result"
    }
   ],
   "source": [
    "thetac"
   ]
  },
  {
   "cell_type": "code",
   "execution_count": 12,
   "id": "1ddee0b3-5379-49b6-a133-bcbca15de96f",
   "metadata": {},
   "outputs": [],
   "source": [
    "fprimeprime = D(f, theta, 2).doit().factor()"
   ]
  },
  {
   "cell_type": "code",
   "execution_count": 13,
   "id": "3455faf7-28f9-4371-ad18-0aa88b367474",
   "metadata": {},
   "outputs": [
    {
     "data": {
      "text/latex": [
       "$\\displaystyle - \\frac{m \\left(\\epsilon^{2} q^{2} \\theta^{3} - 2 \\epsilon^{2} q \\theta^{2} + \\epsilon^{2} \\theta + 2 \\epsilon q^{2} \\theta^{4} + 2 \\epsilon q^{2} \\theta^{3} \\theta_{0} - 2 \\epsilon q \\theta^{3} + 2 \\epsilon q \\theta \\theta_{0}^{2} - 2 \\epsilon \\theta \\theta_{0} - 2 \\epsilon \\theta_{0}^{2} + 2 q \\theta^{4} + 8 q \\theta^{3} \\theta_{0} + 12 q \\theta^{2} \\theta_{0}^{2} + 8 q \\theta \\theta_{0}^{3} + 2 q \\theta_{0}^{4}\\right) e^{\\frac{\\epsilon}{\\theta + \\theta_{0}}}}{\\left(\\theta + \\theta_{0}\\right)^{4} \\left(q \\theta - 1\\right)^{3}}$"
      ],
      "text/plain": [
       "-m*(epsilon**2*q**2*theta**3 - 2*epsilon**2*q*theta**2 + epsilon**2*theta + 2*epsilon*q**2*theta**4 + 2*epsilon*q**2*theta**3*theta_0 - 2*epsilon*q*theta**3 + 2*epsilon*q*theta*theta_0**2 - 2*epsilon*theta*theta_0 - 2*epsilon*theta_0**2 + 2*q*theta**4 + 8*q*theta**3*theta_0 + 12*q*theta**2*theta_0**2 + 8*q*theta*theta_0**3 + 2*q*theta_0**4)*exp(epsilon/(theta + theta_0))/((theta + theta_0)**4*(q*theta - 1)**3)"
      ]
     },
     "execution_count": 13,
     "metadata": {},
     "output_type": "execute_result"
    }
   ],
   "source": [
    "fprimeprime"
   ]
  },
  {
   "cell_type": "code",
   "execution_count": 15,
   "id": "8548cc70",
   "metadata": {},
   "outputs": [
    {
     "name": "stdout",
     "output_type": "stream",
     "text": [
      "- \\frac{m \\left(\\epsilon^{2} q^{2} \\theta^{3} - 2 \\epsilon^{2} q \\theta^{2} + \\epsilon^{2} \\theta + 2 \\epsilon q^{2} \\theta^{4} + 2 \\epsilon q^{2} \\theta^{3} \\theta_{0} - 2 \\epsilon q \\theta^{3} + 2 \\epsilon q \\theta \\theta_{0}^{2} - 2 \\epsilon \\theta \\theta_{0} - 2 \\epsilon \\theta_{0}^{2} + 2 q \\theta^{4} + 8 q \\theta^{3} \\theta_{0} + 12 q \\theta^{2} \\theta_{0}^{2} + 8 q \\theta \\theta_{0}^{3} + 2 q \\theta_{0}^{4}\\right) e^{\\frac{\\epsilon}{\\theta + \\theta_{0}}}}{\\left(\\theta + \\theta_{0}\\right)^{4} \\left(q \\theta - 1\\right)^{3}}\n"
     ]
    }
   ],
   "source": [
    "print(latex(fprimeprime))"
   ]
  },
  {
   "cell_type": "code",
   "execution_count": 301,
   "id": "8ba0a750-0948-40ed-9757-680e2e7ca4f9",
   "metadata": {},
   "outputs": [
    {
     "data": {
      "text/latex": [
       "$\\displaystyle 0$"
      ],
      "text/plain": [
       "0"
      ]
     },
     "execution_count": 301,
     "metadata": {},
     "output_type": "execute_result"
    }
   ],
   "source": [
    "fprimeprime.subs({theta: thetac, epsilon: 4*theta0 + 4*q*theta0**2}).factor()"
   ]
  },
  {
   "cell_type": "code",
   "execution_count": 312,
   "id": "f89664cf-483a-4fa1-b938-20d194af4bca",
   "metadata": {},
   "outputs": [
    {
     "data": {
      "text/latex": [
       "$\\displaystyle 1.4062311224538 \\cdot 10^{-12}$"
      ],
      "text/plain": [
       "1.40623112245380e-12"
      ]
     },
     "execution_count": 312,
     "metadata": {},
     "output_type": "execute_result"
    }
   ],
   "source": [
    "fprimeprime.subs({theta: 2 * thetac, epsilon: 4*theta0 + 4*q*theta0**2, m: 3.702113166195264e-12, theta0: 1}).subs({q: 0.001})"
   ]
  },
  {
   "cell_type": "code",
   "execution_count": 313,
   "id": "537692f5-f104-4adf-9f31-760942d272ec",
   "metadata": {},
   "outputs": [
    {
     "data": {
      "text/latex": [
       "$\\displaystyle -4.24500534644495 \\cdot 10^{-11}$"
      ],
      "text/plain": [
       "-4.24500534644495e-11"
      ]
     },
     "execution_count": 313,
     "metadata": {},
     "output_type": "execute_result"
    }
   ],
   "source": [
    "fprimeprime.subs({theta: thetac / 2, epsilon: 4*theta0 + 4*q*theta0**2, m: 3.702113166195264e-12, theta0: 1}).subs({q: 0.001})#.factor()"
   ]
  },
  {
   "cell_type": "code",
   "execution_count": 304,
   "id": "e9c44eca-b69c-4680-8d2f-60588d0e153b",
   "metadata": {},
   "outputs": [],
   "source": [
    "#solve(Eq(fprimeprime, 0), theta)"
   ]
  },
  {
   "cell_type": "code",
   "execution_count": 314,
   "id": "87735de7-46ba-4385-8810-d994b98f089c",
   "metadata": {},
   "outputs": [
    {
     "data": {
      "text/latex": [
       "$\\displaystyle 3.40833460113786 \\cdot 10^{-14}$"
      ],
      "text/plain": [
       "3.40833460113786e-14"
      ]
     },
     "execution_count": 314,
     "metadata": {},
     "output_type": "execute_result"
    }
   ],
   "source": [
    "fprimeprime.subs({theta: 10 * thetac, epsilon: 4*theta0 + 4*q*theta0**2, m: 3.702113166195264e-12, theta0: 1}).subs({q: 0.001})"
   ]
  }
 ],
 "metadata": {
  "kernelspec": {
   "display_name": "Python 3",
   "language": "python",
   "name": "python3"
  },
  "language_info": {
   "codemirror_mode": {
    "name": "ipython",
    "version": 3
   },
   "file_extension": ".py",
   "mimetype": "text/x-python",
   "name": "python",
   "nbconvert_exporter": "python",
   "pygments_lexer": "ipython3",
   "version": "3.13.5"
  }
 },
 "nbformat": 4,
 "nbformat_minor": 5
}
