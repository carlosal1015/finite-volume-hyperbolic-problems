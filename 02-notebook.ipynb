{
 "cells": [
  {
   "cell_type": "markdown",
   "metadata": {},
   "source": [
    "---\n",
    "title: Linking Interactive Notebooks\n",
    "subtitle: Evolve markdown documents and notebooks into structured data\n",
    "author:\n",
    "  - name: Rowan Cockett\n",
    "    affiliations: Executable Books; Curvenote\n",
    "    orcid: 0000-0002-7859-8394\n",
    "    email: rowan@curvenote.com\n",
    "license:\n",
    "  code: MIT\n",
    "date: 2023/01/23\n",
    "---\n",
    "\n",
    "MyST allows you to directly include Jupyter Notebooks in your books, documents and websites.\n",
    "This Jupyter Notebook can be rendered directly using MyST.\n",
    "\n",
    "For example, let us import `altair` and create a demo of an interactive plot!"
   ]
  },
  {
   "cell_type": "code",
   "execution_count": 1,
   "metadata": {},
   "outputs": [],
   "source": [
    "import numpy as np\n",
    "import matplotlib.pyplot as plt\n",
    "from scipy.sparse import dia_array"
   ]
  },
  {
   "cell_type": "code",
   "execution_count": null,
   "metadata": {},
   "outputs": [],
   "source": [
    "np.show_runtime()"
   ]
  },
  {
   "cell_type": "code",
   "execution_count": null,
   "metadata": {},
   "outputs": [],
   "source": [
    "np.show_config()"
   ]
  }
 ],
 "metadata": {
  "kernelspec": {
   "display_name": "Python 3 (ipykernel)",
   "language": "python",
   "name": "python3"
  },
  "language_info": {
   "codemirror_mode": {
    "name": "ipython",
    "version": 3
   },
   "file_extension": ".py",
   "mimetype": "text/x-python",
   "name": "python",
   "nbconvert_exporter": "python",
   "pygments_lexer": "ipython3",
   "version": "3.9.7"
  },
  "vscode": {
   "interpreter": {
    "hash": "d7b89e158b719c02a21186c9646700ecf5a8cc5b1b6f738df9b6ffa75e5e74e4"
   }
  }
 },
 "nbformat": 4,
 "nbformat_minor": 4
}
