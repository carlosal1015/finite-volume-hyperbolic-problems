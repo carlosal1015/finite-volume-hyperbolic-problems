{
 "cells": [
  {
   "cell_type": "markdown",
   "metadata": {},
   "source": [
    "# Lax-Wendroff and MacCormack methods"
   ]
  },
  {
   "cell_type": "code",
   "execution_count": 20,
   "metadata": {},
   "outputs": [],
   "source": [
    "from sympy import Derivative as D\n",
    "from sympy import Symbol, Function\n",
    "from sympy import Eq"
   ]
  },
  {
   "cell_type": "code",
   "execution_count": 21,
   "metadata": {},
   "outputs": [],
   "source": [
    "Δx = Symbol(r\"\\Delta x\")\n",
    "Δt = Symbol(r\"\\Delta t\")\n",
    "A = Symbol(\"A\")\n",
    "U = Symbol(\"U\")\n",
    "f = A * U"
   ]
  },
  {
   "cell_type": "markdown",
   "metadata": {},
   "source": [
    "- `Unp1j` reads $U$ $n$ plus $1$ $j$.\n",
    "- `Unj` reads $U$ $n$ $j$.\n",
    "- `Unjp1` reads $U$ $n$ $j$ plus $1$.\n",
    "- `Unjm1` reads $U$ $n$ $j$ minus $1$.\n",
    "- `Unjph1` reads $U$ $n$ $j$ plus half $1$.\n",
    "- `Unjmh1` reads $U$ $n$ $j$ minus half $1$."
   ]
  },
  {
   "cell_type": "code",
   "execution_count": 22,
   "metadata": {},
   "outputs": [],
   "source": [
    "Unp1j = Symbol(r\"U_j^n+1\")\n",
    "Unj = Symbol(r\"U_j^n\")\n",
    "Unjp1 = Symbol(r\"U_j+1^n\")\n",
    "Unjm1 = Symbol(r\"U_j-1^n\")\n",
    "Unjph1 = Symbol(r\"U_j+\\frac12^n\")\n",
    "Unjmh1 = Symbol(r\"U_j-\\frac12^n\")"
   ]
  },
  {
   "cell_type": "code",
   "execution_count": 23,
   "metadata": {},
   "outputs": [],
   "source": [
    "fnjp1 = f.subs({U: Unp1j})\n",
    "fnj = f.subs({U: Unj})\n",
    "fnjm1 = f.subs({U: Unjm1})"
   ]
  },
  {
   "cell_type": "code",
   "execution_count": 24,
   "metadata": {},
   "outputs": [],
   "source": [
    "Anjph1 = A\n",
    "Anjmh1 = A"
   ]
  },
  {
   "cell_type": "code",
   "execution_count": 25,
   "metadata": {},
   "outputs": [],
   "source": [
    "equation1224 = Eq(lhs=Unp1j, rhs=Unj - Δt / (2 * Δx) * A * (Unjp1 - Unjm1) + Δt**2  / (2*Δx**2) * A**2 * (Unjp1 - 2*Unj + Unjm1))"
   ]
  },
  {
   "cell_type": "code",
   "execution_count": 26,
   "metadata": {},
   "outputs": [
    {
     "data": {
      "text/latex": [
       "$\\displaystyle U^{n+1}_{j} = \\frac{A^{2} \\Delta t^{2} \\left(U^{n}_{j+1} + U^{n}_{j-1} - 2 U^{n}_{j}\\right)}{2 \\Delta x^{2}} - \\frac{A \\Delta t \\left(U^{n}_{j+1} - U^{n}_{j-1}\\right)}{2 \\Delta x} + U^{n}_{j}$"
      ],
      "text/plain": [
       "Eq(U_j^n+1, A**2*\\Delta t**2*(U_j+1^n + U_j-1^n - 2*U_j^n)/(2*\\Delta x**2) - A*\\Delta t*(U_j+1^n - U_j-1^n)/(2*\\Delta x) + U_j^n)"
      ]
     },
     "execution_count": 26,
     "metadata": {},
     "output_type": "execute_result"
    }
   ],
   "source": [
    "equation1224"
   ]
  },
  {
   "cell_type": "code",
   "execution_count": 27,
   "metadata": {},
   "outputs": [],
   "source": [
    "equation1225 = Eq(lhs=Unp1j, rhs=Unj - Δt / Δx * (fnjp1 - fnjm1) + Δt**2  / (2*Δx**2) * (Anjph1 *(fnjp1 - fnjm1) - Anjmh1 * (fnj - fnjm1)))"
   ]
  },
  {
   "cell_type": "code",
   "execution_count": 28,
   "metadata": {},
   "outputs": [
    {
     "data": {
      "text/latex": [
       "$\\displaystyle U^{n+1}_{j} = U^{n}_{j} + \\frac{\\Delta t^{2} \\left(- A \\left(- A U^{n}_{j-1} + A U^{n}_{j}\\right) + A \\left(- A U^{n}_{j-1} + A U^{n+1}_{j}\\right)\\right)}{2 \\Delta x^{2}} - \\frac{\\Delta t \\left(- A U^{n}_{j-1} + A U^{n+1}_{j}\\right)}{\\Delta x}$"
      ],
      "text/plain": [
       "Eq(U_j^n+1, U_j^n + \\Delta t**2*(-A*(-A*U_j-1^n + A*U_j^n) + A*(-A*U_j-1^n + A*U_j^n+1))/(2*\\Delta x**2) - \\Delta t*(-A*U_j-1^n + A*U_j^n+1)/\\Delta x)"
      ]
     },
     "execution_count": 28,
     "metadata": {},
     "output_type": "execute_result"
    }
   ],
   "source": [
    "equation1225"
   ]
  },
  {
   "cell_type": "code",
   "execution_count": 29,
   "metadata": {},
   "outputs": [],
   "source": [
    "Unph1jph1 = (Unj + Unjp1) / 2 - Δt / (2 * Δx) * (fnjp1 - fnj)\n",
    "fnph1jph1 = f.subs({U: Unph1jph1})\n",
    "Unph1jmh1 = (Unj + Unjm1) / 2 - Δt / (2 * Δx) * (fnjm1 - fnj)\n",
    "fnph1jmh1 = f.subs({U: Unph1jmh1})"
   ]
  },
  {
   "cell_type": "code",
   "execution_count": 30,
   "metadata": {},
   "outputs": [],
   "source": [
    "equation1226 = Eq(lhs=Unp1j, rhs=Unj - Δt / Δx * (fnph1jph1 - fnph1jmh1))"
   ]
  },
  {
   "cell_type": "code",
   "execution_count": 31,
   "metadata": {},
   "outputs": [
    {
     "data": {
      "text/latex": [
       "$\\displaystyle U^{n+1}_{j} = U^{n}_{j} - \\frac{\\Delta t \\left(A \\left(\\frac{U^{n}_{j+1}}{2} + \\frac{U^{n}_{j}}{2} - \\frac{\\Delta t \\left(- A U^{n}_{j} + A U^{n+1}_{j}\\right)}{2 \\Delta x}\\right) - A \\left(\\frac{U^{n}_{j-1}}{2} + \\frac{U^{n}_{j}}{2} - \\frac{\\Delta t \\left(A U^{n}_{j-1} - A U^{n}_{j}\\right)}{2 \\Delta x}\\right)\\right)}{\\Delta x}$"
      ],
      "text/plain": [
       "Eq(U_j^n+1, U_j^n - \\Delta t*(A*(U_j+1^n/2 + U_j^n/2 - \\Delta t*(-A*U_j^n + A*U_j^n+1)/(2*\\Delta x)) - A*(U_j-1^n/2 + U_j^n/2 - \\Delta t*(A*U_j-1^n - A*U_j^n)/(2*\\Delta x)))/\\Delta x)"
      ]
     },
     "execution_count": 31,
     "metadata": {},
     "output_type": "execute_result"
    }
   ],
   "source": [
    "equation1226"
   ]
  },
  {
   "cell_type": "code",
   "execution_count": 32,
   "metadata": {},
   "outputs": [],
   "source": [
    "Uaj = Unj - Δt / Δx * (fnjp1 - fnj)\n",
    "faj = f.subs({U: Uaj})\n",
    "Uajm1 = Unjm1 - Δt / Δx * (fnj - fnjm1)\n",
    "fajm1 = f.subs({U: Uajm1})"
   ]
  },
  {
   "cell_type": "code",
   "execution_count": 33,
   "metadata": {},
   "outputs": [],
   "source": [
    "equation1227 = Eq(lhs=Unp1j, rhs=(Unj + Uaj) / 2 - (Δt / 2 * Δx) * (faj - fajm1))"
   ]
  },
  {
   "cell_type": "code",
   "execution_count": 34,
   "metadata": {},
   "outputs": [
    {
     "data": {
      "text/latex": [
       "$\\displaystyle U^{n+1}_{j} = U^{n}_{j} - \\frac{\\Delta t \\Delta x \\left(- A \\left(U^{n}_{j-1} - \\frac{\\Delta t \\left(- A U^{n}_{j-1} + A U^{n}_{j}\\right)}{\\Delta x}\\right) + A \\left(U^{n}_{j} - \\frac{\\Delta t \\left(- A U^{n}_{j} + A U^{n+1}_{j}\\right)}{\\Delta x}\\right)\\right)}{2} - \\frac{\\Delta t \\left(- A U^{n}_{j} + A U^{n+1}_{j}\\right)}{2 \\Delta x}$"
      ],
      "text/plain": [
       "Eq(U_j^n+1, U_j^n - \\Delta t*\\Delta x*(-A*(U_j-1^n - \\Delta t*(-A*U_j-1^n + A*U_j^n)/\\Delta x) + A*(U_j^n - \\Delta t*(-A*U_j^n + A*U_j^n+1)/\\Delta x))/2 - \\Delta t*(-A*U_j^n + A*U_j^n+1)/(2*\\Delta x))"
      ]
     },
     "execution_count": 34,
     "metadata": {},
     "output_type": "execute_result"
    }
   ],
   "source": [
    "equation1227"
   ]
  },
  {
   "cell_type": "code",
   "execution_count": 35,
   "metadata": {},
   "outputs": [],
   "source": [
    "u = Function(\"u\")\n",
    "x = Symbol(\"x\")"
   ]
  },
  {
   "cell_type": "code",
   "execution_count": 36,
   "metadata": {},
   "outputs": [
    {
     "data": {
      "text/latex": [
       "$\\displaystyle u{\\left(\\Delta x + x \\right)} = u{\\left(x \\right)} + \\Delta x \\frac{d}{d x} u{\\left(x \\right)} + \\frac{\\Delta x^{2} \\frac{d^{2}}{d x^{2}} u{\\left(x \\right)}}{2} + \\frac{\\Delta x^{3} \\frac{d^{3}}{d x^{3}} u{\\left(x \\right)}}{6} + \\frac{\\Delta x^{4} \\frac{d^{4}}{d x^{4}} u{\\left(x \\right)}}{24} + O\\left(\\Delta x^{5}\\right)$"
      ],
      "text/plain": [
       "Eq(u(\\Delta x + x), u(x) + \\Delta x*Derivative(u(x), x) + \\Delta x**2*Derivative(u(x), (x, 2))/2 + \\Delta x**3*Derivative(u(x), (x, 3))/6 + \\Delta x**4*Derivative(u(x), (x, 4))/24 + O(\\Delta x**5))"
      ]
     },
     "execution_count": 36,
     "metadata": {},
     "output_type": "execute_result"
    }
   ],
   "source": [
    "Eq(u(x + Δx), u(x + Δx).series(x=Δx, x0=0, n=5).simplify())"
   ]
  },
  {
   "cell_type": "code",
   "execution_count": 37,
   "metadata": {},
   "outputs": [
    {
     "data": {
      "text/latex": [
       "$\\displaystyle u{\\left(- \\Delta x + x \\right)} = u{\\left(x \\right)} - \\Delta x \\frac{d}{d x} u{\\left(x \\right)} + \\frac{\\Delta x^{2} \\frac{d^{2}}{d x^{2}} u{\\left(x \\right)}}{2} - \\frac{\\Delta x^{3} \\frac{d^{3}}{d x^{3}} u{\\left(x \\right)}}{6} + \\frac{\\Delta x^{4} \\frac{d^{4}}{d x^{4}} u{\\left(x \\right)}}{24} + O\\left(\\Delta x^{5}\\right)$"
      ],
      "text/plain": [
       "Eq(u(-\\Delta x + x), u(x) - \\Delta x*Derivative(u(x), x) + \\Delta x**2*Derivative(u(x), (x, 2))/2 - \\Delta x**3*Derivative(u(x), (x, 3))/6 + \\Delta x**4*Derivative(u(x), (x, 4))/24 + O(\\Delta x**5))"
      ]
     },
     "execution_count": 37,
     "metadata": {},
     "output_type": "execute_result"
    }
   ],
   "source": [
    "Eq(u(x - Δx), u(x - Δx).series(x=Δx, x0=0, n=5).simplify())"
   ]
  },
  {
   "cell_type": "markdown",
   "metadata": {},
   "source": [
    "# Conservative Methods for Nonlinear Problems"
   ]
  }
 ],
 "metadata": {
  "kernelspec": {
   "display_name": "Python 3",
   "language": "python",
   "name": "python3"
  },
  "language_info": {
   "codemirror_mode": {
    "name": "ipython",
    "version": 3
   },
   "file_extension": ".py",
   "mimetype": "text/x-python",
   "name": "python",
   "nbconvert_exporter": "python",
   "pygments_lexer": "ipython3",
   "version": "3.13.2"
  }
 },
 "nbformat": 4,
 "nbformat_minor": 2
}
